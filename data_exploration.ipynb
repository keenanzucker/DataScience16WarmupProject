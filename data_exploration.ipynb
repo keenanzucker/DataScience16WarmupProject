{
 "cells": [
  {
   "cell_type": "markdown",
   "metadata": {},
   "source": [
    "## Data Exploration Assignment for Titatic Data Set from kaggle\n",
    "______________\n",
    "#### Keenan Zucker\n"
   ]
  },
  {
   "cell_type": "markdown",
   "metadata": {},
   "source": [
    "Import all of the data into a numpy array\n",
    "__________"
   ]
  },
  {
   "cell_type": "code",
   "execution_count": 3,
   "metadata": {
    "collapsed": false
   },
   "outputs": [
    {
     "name": "stdout",
     "output_type": "stream",
     "text": [
      "Survival Percentage:  38.3838383838 %\n"
     ]
    }
   ],
   "source": [
    "import pandas as pd\n",
    "import csv as csv\n",
    "import numpy as np\n",
    "import matplotlib.pyplot as plt\n",
    "%matplotlib inline\n",
    "\n",
    "csv_file = csv.reader(open('train.csv', 'rb'))\n",
    "header = csv_file.next()\n",
    "\n",
    "data = []\n",
    "for row in csv_file:\n",
    "    data.append(row)\n",
    "data = np.array(data)\n",
    "\n",
    "totalPeople = np.size(data[0::,0].astype(np.float))\n",
    "survivors = np.sum(data[0::,1].astype(np.float))\n",
    "\n",
    "survivalPerc = survivors / totalPeople * 100\n",
    "print \"Survival Percentage: \", survivalPerc, \"%\""
   ]
  },
  {
   "cell_type": "markdown",
   "metadata": {
    "collapsed": true
   },
   "source": [
    "___________\n",
    "The overal survival percentage, when looking at only the number of survivors vs the total number of people, was about 38 percent. Now let's get more into the different features of the passengers"
   ]
  },
  {
   "cell_type": "code",
   "execution_count": 4,
   "metadata": {
    "collapsed": false
   },
   "outputs": [
    {
     "name": "stdout",
     "output_type": "stream",
     "text": [
      "['38', '26', '35', '27', '14', '4', '58', '55', '0', '15', '38', '0', '0', '0', '14', '3', '19', '0', '49', '29', '21', '5', '38', '29', '17', '30', '0', '17', '33', '23', '34', '21', '0', '32.5', '0', '29', '19', '22', '24', '22', '16', '40', '0', '1', '4', '0', '32', '19', '44', '58', '0', '16', '35', '31', '27', '32', '35', '5', '8', '0', '24', '29', '0', '30', '35', '50', '58', '35', '41', '0', '63', '35', '22', '26', '19', '50', '0', '0', '0', '17', '30', '24', '18', '26', '24', '31', '40', '30', '22', '36', '36', '31', '16', '0', '0', '41', '24', '24', '40', '0', '22', '0', '0', '60', '0', '0', '24', '0', '22', '42', '1', '35', '36', '17', '23', '24', '28', '33', '34', '18', '28', '19', '0', '42', '14', '24', '45', '28', '13', '5', '0', '50', '0.75', '33', '23', '2', '63', '35', '54', '16', '33', '54', '34', '36', '30', '44', '50', '2', '0', '7', '30', '22', '36', '19', '22', '48', '39', '36', '53', '0', '34', '39', '25', '39', '18', '52', '0', '24', '22', '40', '0', '24', '4', '21', '28', '24', '0.75', '23', '18', '0', '0', '40', '18', '15', '4', '0', '18', '45', '22', '24', '38', '27', '6', '30', '0', '29', '21', '30', '4', '48', '33', '36', '51', '54', '5', '43', '13', '17', '18', '49', '31', '31', '33', '52', '27', '62', '15', '39', '30', '0', '16', '18', '45', '24', '48', '42', '27', '47', '28', '15', '56', '25', '19']\n"
     ]
    },
    {
     "data": {
      "image/png": "[encoded data removed]",
      "text/plain": [
       "<matplotlib.figure.Figure at 0x7f62145a8210>"
      ]
     },
     "metadata": {},
     "output_type": "display_data"
    }
   ],
   "source": [
    "women = data[data[0::,4] == 'female']\n",
    "women = women[women[0::,1] == '1']\n",
    "\n",
    "firstWomen = women[women[0::,2] == '1']\n",
    "secondWomen = women[women[0::,2] == '2']\n",
    "thirdWomen = women[women[0::,2] == '3']\n",
    "    \n",
    "womenAges = ['0' if x=='' else x for x in women[0::,5]] # replace empty strings with zeros...\n",
    "\n",
    "print womenAges\n",
    "\n",
    "plt.scatter(womenAges, women[0::,2])\n",
    "plt.xlabel('age of women')\n",
    "plt.ylabel('class on ship')\n",
    "plt.show()"
   ]
  },
  {
   "cell_type": "markdown",
   "metadata": {},
   "source": [
    "Shows the distribution of female ages vs which class their ticket was in. Older women generally had higher class tickets, which makes logical sense. "
   ]
  },
  {
   "cell_type": "code",
   "execution_count": null,
   "metadata": {
    "collapsed": false
   },
   "outputs": [],
   "source": []
  },
  {
   "cell_type": "code",
   "execution_count": null,
   "metadata": {
    "collapsed": true
   },
   "outputs": [],
   "source": []
  }
 ],
 "metadata": {
  "kernelspec": {
   "display_name": "Python 2",
   "language": "python",
   "name": "python2"
  },
  "language_info": {
   "codemirror_mode": {
    "name": "ipython",
    "version": 2
   },
   "file_extension": ".py",
   "mimetype": "text/x-python",
   "name": "python",
   "nbconvert_exporter": "python",
   "pygments_lexer": "ipython2",
   "version": "2.7.11"
  }
 },
 "nbformat": 4,
 "nbformat_minor": 0
}
